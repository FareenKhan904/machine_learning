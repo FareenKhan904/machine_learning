{
 "cells": [
  {
   "cell_type": "code",
   "execution_count": 1,
   "id": "46a57f15-e09b-40da-87cf-6a59ba5c563e",
   "metadata": {},
   "outputs": [],
   "source": [
    "                #          <==============  Object Oriented Programming ==========>\n",
    "                #                   -------------lab_6 --------------"
   ]
  },
  {
   "cell_type": "code",
   "execution_count": 7,
   "id": "b4fc1987-342d-4d57-900b-dcd701adfe34",
   "metadata": {},
   "outputs": [
    {
     "name": "stdout",
     "output_type": "stream",
     "text": [
      "Area :  50\n",
      "parameter:  30\n"
     ]
    }
   ],
   "source": [
    "# 1. Write a Python class called Rectangle that has attributes length and width. Implement methods to calculate the area and perimeter of the rectangle.\n",
    "\n",
    "class rectangle:\n",
    "    def __init__(self, length, width):\n",
    "        self.length=length\n",
    "        self.width=width\n",
    "    def area(self):\n",
    "        area=self.length*self.width\n",
    "        print(\"Area : \",area)\n",
    "    def parameter(self):\n",
    "        parameter=2*(self.length+self.width)\n",
    "        print(\"parameter: \",parameter)\n",
    "rec=rectangle(10,5)\n",
    "rec.area()\n",
    "rec.parameter()"
   ]
  },
  {
   "cell_type": "code",
   "execution_count": 11,
   "id": "5e92bfb0-cb6c-4036-b5c8-acb669208352",
   "metadata": {},
   "outputs": [
    {
     "name": "stdout",
     "output_type": "stream",
     "text": [
      "The Dog = Woof!\n",
      "The Cat = Meow!\n",
      "The Bird = Chirp!\n"
     ]
    }
   ],
   "source": [
    "''' 2.Create a class hierarchy in Python consisting of a base class called Animal, and derived classes Dog, Cat, and Bird. \n",
    "Each derived class should have its unique method. \n",
    "Instantiate objects of each class and demonstrate polymorphism by calling a common method on each object '''\n",
    "\n",
    "class Animal:\n",
    "    def __init__(self, name):\n",
    "        self.name = name\n",
    "\n",
    "    def make_sound(self):\n",
    "        pass\n",
    "\n",
    "class Dog(Animal):\n",
    "    def make_sound(self):\n",
    "        return \"Woof!\"\n",
    "\n",
    "class Cat(Animal):\n",
    "    def make_sound(self):\n",
    "        return \"Meow!\"\n",
    "\n",
    "class Bird(Animal):\n",
    "    def make_sound(self):\n",
    "        return \"Chirp!\"\n",
    "\n",
    "dog = Dog(\"Dog\")\n",
    "cat = Cat(\"Cat\")\n",
    "bird = Bird(\"Bird\")\n",
    "\n",
    "animals = [dog, cat, bird]\n",
    "\n",
    "for animal in animals:\n",
    "    print(\"The\", animal.name, \"=\", animal.make_sound())"
   ]
  },
  {
   "cell_type": "code",
   "execution_count": 15,
   "id": "e63d1280-6ba1-4de8-8216-e5f8280a15da",
   "metadata": {},
   "outputs": [
    {
     "name": "stdout",
     "output_type": "stream",
     "text": [
      "area of rectangle =  15\n",
      "area of circle=  50.26548245743669\n"
     ]
    }
   ],
   "source": [
    "''' 3. Write a Python class called Shape with a method area() that returns the area of the shape. \n",
    "Create two subclasses, Rectangle and Circle, each overriding the area() method to calculate the area of the specific shape. \n",
    "Instantiate objects of each class and display their areas. '''\n",
    "\n",
    "import math\n",
    "class shape:\n",
    "    def area(self):\n",
    "        pass\n",
    "class Rectangle:\n",
    "    def __init__(self,alength,awidth):\n",
    "        self.length=alength\n",
    "        self.width=awidth\n",
    "    def area(self):\n",
    "        return self.length*self.width\n",
    "        \n",
    "class Circle:\n",
    "    def __init__(self,radius):\n",
    "        self.radious=radius\n",
    "        \n",
    "    def area(self):\n",
    "        return math.pi*self.radious**2\n",
    "    \n",
    "rectangle = Rectangle(5, 3)\n",
    "circle = Circle(4)\n",
    "\n",
    "print(\"area of rectangle = \",rectangle.area())\n",
    "print(\"area of circle= \",circle.area())"
   ]
  },
  {
   "cell_type": "markdown",
   "id": "5d4646d2-b291-47ba-95fe-8cde18267ea7",
   "metadata": {},
   "source": [
    "                                #    <============== LAB_6 COMPLETE ==========>"
   ]
  }
 ],
 "metadata": {
  "kernelspec": {
   "display_name": "Python 3 (ipykernel)",
   "language": "python",
   "name": "python3"
  },
  "language_info": {
   "codemirror_mode": {
    "name": "ipython",
    "version": 3
   },
   "file_extension": ".py",
   "mimetype": "text/x-python",
   "name": "python",
   "nbconvert_exporter": "python",
   "pygments_lexer": "ipython3",
   "version": "3.11.7"
  }
 },
 "nbformat": 4,
 "nbformat_minor": 5
}
