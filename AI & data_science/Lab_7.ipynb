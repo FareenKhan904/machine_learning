{
 "cells": [
  {
   "cell_type": "code",
   "execution_count": 1,
   "id": "02e18bf9-4fd4-433d-84f7-c00f42326a32",
   "metadata": {},
   "outputs": [],
   "source": [
    "                #          <==============  NUMPY ==========>\n",
    "                #                   -------------lab_7 --------------"
   ]
  },
  {
   "cell_type": "code",
   "execution_count": 3,
   "id": "6039f04b-6aac-4b1a-bf91-37576c1e93ae",
   "metadata": {},
   "outputs": [
    {
     "name": "stdout",
     "output_type": "stream",
     "text": [
      "[  1   2   3   4   5   6   7   8   9  10  11  12  13  14  15  16  17  18\n",
      "  19  20  21  22  23  24  25  26  27  28  29  30  31  32  33  34  35  36\n",
      "  37  38  39  40  41  42  43  44  45  46  47  48  49  50  51  52  53  54\n",
      "  55  56  57  58  59  60  61  62  63  64  65  66  67  68  69  70  71  72\n",
      "  73  74  75  76  77  78  79  80  81  82  83  84  85  86  87  88  89  90\n",
      "  91  92  93  94  95  96  97  98  99 100]\n"
     ]
    }
   ],
   "source": [
    "# Q1 Create a Numpy array with numbers 1 to 101\n",
    "\n",
    "import numpy as np\n",
    "\n",
    "num = np.arange(1, 101)\n",
    "print(num)"
   ]
  },
  {
   "cell_type": "code",
   "execution_count": 5,
   "id": "2141bae6-924e-4667-ab71-abe829913d48",
   "metadata": {},
   "outputs": [
    {
     "name": "stdout",
     "output_type": "stream",
     "text": [
      "[[  1   2   3   4   5   6   7   8   9  10]\n",
      " [ 11  12  13  14  15  16  17  18  19  20]\n",
      " [ 21  22  23  24  25  26  27  28  29  30]\n",
      " [ 31  32  33  34  35  36  37  38  39  40]\n",
      " [ 41  42  43  44  45  46  47  48  49  50]\n",
      " [ 51  52  53  54  55  56  57  58  59  60]\n",
      " [ 61  62  63  64  65  66  67  68  69  70]\n",
      " [ 71  72  73  74  75  76  77  78  79  80]\n",
      " [ 81  82  83  84  85  86  87  88  89  90]\n",
      " [ 91  92  93  94  95  96  97  98  99 100]]\n"
     ]
    }
   ],
   "source": [
    "# Q2 Reshape the array into a 10,10 array\n",
    "\n",
    "arr= np.arange(1 , 101)\n",
    "arr_reshaped = arr.reshape(10,10)\n",
    "print(arr_reshaped)"
   ]
  },
  {
   "cell_type": "code",
   "execution_count": 7,
   "id": "29082a56-6365-4904-9079-b690c2583619",
   "metadata": {},
   "outputs": [
    {
     "name": "stdout",
     "output_type": "stream",
     "text": [
      "[ 55 155 255 355 455 555 655 755 855 955]\n"
     ]
    }
   ],
   "source": [
    "# Q3 Calculate the sum of each row\n",
    "\n",
    "row_sums = np.sum(arr_reshaped, axis=1)\n",
    "print(row_sums)"
   ]
  },
  {
   "cell_type": "code",
   "execution_count": 11,
   "id": "249bb57d-80d3-4056-8019-a99b3d0dc663",
   "metadata": {},
   "outputs": [
    {
     "name": "stdout",
     "output_type": "stream",
     "text": [
      "Array:\n",
      "[[  1   2   3   4   5   6   7   8   9  10]\n",
      " [ 11  12  13  14  15  16  17  18  19  20]\n",
      " [ 21  22  23  24  25  26  27  28  29  30]\n",
      " [ 31  32  33  34  35  36  37  38  39  40]\n",
      " [ 41  42  43  44  45  46  47  48  49  50]\n",
      " [ 51  52  53  54  55  56  57  58  59  60]\n",
      " [ 61  62  63  64  65  66  67  68  69  70]\n",
      " [ 71  72  73  74  75  76  77  78  79  80]\n",
      " [ 81  82  83  84  85  86  87  88  89  90]\n",
      " [ 91  92  93  94  95  96  97  98  99 100]]\n",
      "\n",
      "Row Sums:\n",
      "[ 55 155 255 355 455 555 655 755 855 955]\n",
      "\n",
      "Row with Mamimum Sum: 9\n"
     ]
    }
   ],
   "source": [
    "# Q4 Find the row with the maximum sum\n",
    "\n",
    "max_sum_row = np.argmax(row_sums)\n",
    "\n",
    "print(\"Array:\")\n",
    "print(arr_reshaped)\n",
    "print()\n",
    "print(\"Row Sums:\")\n",
    "print(row_sums)\n",
    "print()\n",
    "print(\"Row with Mamimum Sum:\",max_sum_row)"
   ]
  },
  {
   "cell_type": "code",
   "execution_count": 13,
   "id": "16b122b7-49a4-4032-8dd9-de9d2f545a40",
   "metadata": {},
   "outputs": [
    {
     "name": "stdout",
     "output_type": "stream",
     "text": [
      "Original Array:\n",
      "[[2 7 4 2 5]\n",
      " [4 5 7 2 2]\n",
      " [5 2 8 5 5]\n",
      " [9 1 8 2 7]\n",
      " [4 3 9 2 3]]\n",
      "Mean Value\n",
      "[[2 7 4 2 5]\n",
      " [4 5 7 2 2]\n",
      " [5 2 8 5 5]\n",
      " [9 1 8 2 7]\n",
      " [4 3 9 2 3]]\n"
     ]
    }
   ],
   "source": [
    "# Q5 Create a 2D Numpy array with dimension 5*5\n",
    "arr = np.random.randint(1,10,(5,5))\n",
    "print(\"Original Array:\")\n",
    "print(arr)\n",
    "mean_value = np.mean(arr[:-1])\n",
    "\n",
    "print(\"Mean Value\")\n",
    "print(arr)"
   ]
  },
  {
   "cell_type": "code",
   "execution_count": 15,
   "id": "d6950e25-8c74-4776-bc48-477fe4f5103d",
   "metadata": {},
   "outputs": [
    {
     "name": "stdout",
     "output_type": "stream",
     "text": [
      "[[0. 0. 0.]\n",
      " [0. 0. 0.]\n",
      " [0. 0. 0.]]\n"
     ]
    }
   ],
   "source": [
    "'''Task 1: Creating and Manipulating Arrays\n",
    "Task: Create different types of arrays and perform basic operations.\n",
    "Instructions:\n",
    "1. Create an array of zeros with shape (3, 3).\n",
    "2. Create an array of ones with shape (2, 4).\n",
    "3. Create an array with values from 10 to 50, with a step of 10.\n",
    "4. Add 5 to each element of the array created in step 3. '''\n",
    "\n",
    "# 1. Create an array of zeros with shape (3, 3).\n",
    "zeros_array = np.zeros((3,3))\n",
    "print(zeros_array)"
   ]
  },
  {
   "cell_type": "code",
   "execution_count": 17,
   "id": "6d341fb4-c724-44e1-8090-007434e4058e",
   "metadata": {},
   "outputs": [
    {
     "name": "stdout",
     "output_type": "stream",
     "text": [
      "[[1. 1. 1. 1.]\n",
      " [1. 1. 1. 1.]]\n"
     ]
    }
   ],
   "source": [
    "# 2. Create an array of ones with shape (2, 4).\n",
    "arr = np.ones((2,4))\n",
    "print(arr)"
   ]
  },
  {
   "cell_type": "code",
   "execution_count": 19,
   "id": "f1dcc392-ad52-4831-ab2a-6dc186ea3ab3",
   "metadata": {},
   "outputs": [
    {
     "name": "stdout",
     "output_type": "stream",
     "text": [
      "[10 20 30 40 50]\n"
     ]
    }
   ],
   "source": [
    "# 3. Create an array with values from 10 to 50, with a step of 10.\n",
    "arr = np.arange(10,51 , 10)\n",
    "print(arr)"
   ]
  },
  {
   "cell_type": "code",
   "execution_count": 21,
   "id": "ed38a55b-5b77-4e7f-9767-514b1645482a",
   "metadata": {},
   "outputs": [
    {
     "name": "stdout",
     "output_type": "stream",
     "text": [
      "Original array:\n",
      "[10 20 30 40 50]\n",
      "\n",
      "Array after adding 5 to each element:\n",
      "[15 25 35 45 55]\n"
     ]
    }
   ],
   "source": [
    "# 4. Add 5 to each element of the array created in step 3.\n",
    "array = np.arange(10, 51, 10)\n",
    "\n",
    "updated_array = array + 5\n",
    "\n",
    "print(\"Original array:\")\n",
    "print(array)\n",
    "\n",
    "print(\"\\nArray after adding 5 to each element:\")\n",
    "print(updated_array)"
   ]
  },
  {
   "cell_type": "code",
   "execution_count": 23,
   "id": "b77360b1-6a5f-4ec7-b4ba-d66f698da5e0",
   "metadata": {},
   "outputs": [
    {
     "name": "stdout",
     "output_type": "stream",
     "text": [
      "[10 20 30 40 50 60]\n"
     ]
    }
   ],
   "source": [
    "''' Task 2: Indexing and Slicing\n",
    "Task: Practice indexing and slicing arrays.\n",
    "Instructions:\n",
    "1. Create an array [10, 20, 30, 40, 50, 60].\n",
    "2. Slice the array to get the first three elements.\n",
    "3. Slice the array to get the last three elements.\n",
    "4. Use advanced indexing to get the elements at indices 1, 3, and 5. '''\n",
    "\n",
    "# 1. Create an array [10, 20, 30, 40, 50, 60].\n",
    "array = np.array([10, 20, 30, 40, 50, 60])\n",
    "print(array)"
   ]
  },
  {
   "cell_type": "code",
   "execution_count": 25,
   "id": "68720bb8-38e2-4a6c-a898-a279ed745288",
   "metadata": {},
   "outputs": [
    {
     "name": "stdout",
     "output_type": "stream",
     "text": [
      "[10 20 30]\n"
     ]
    }
   ],
   "source": [
    "# 2. Slice the array to get the first three elements.\n",
    "array = np.arange(10, 55, 10)\n",
    "\n",
    "first_three_elements = array[:3]\n",
    "\n",
    "print(first_three_elements)"
   ]
  },
  {
   "cell_type": "code",
   "execution_count": 27,
   "id": "e464ceab-e469-410a-87b0-dd3811ee7128",
   "metadata": {},
   "outputs": [
    {
     "name": "stdout",
     "output_type": "stream",
     "text": [
      "[30 40 50]\n"
     ]
    }
   ],
   "source": [
    "# 3. Slice the array to get the last three elements.\n",
    "array = np.arange(10, 55, 10)\n",
    "\n",
    "first_last_elements = array[-3:]\n",
    "\n",
    "print(first_last_elements)"
   ]
  },
  {
   "cell_type": "code",
   "execution_count": 51,
   "id": "9a51924d-ecee-4e83-bc17-c28a5c5143dc",
   "metadata": {},
   "outputs": [
    {
     "name": "stdout",
     "output_type": "stream",
     "text": [
      "[20 40]\n"
     ]
    }
   ],
   "source": [
    "# 4. Use advanced indexing to get the elements at indices 1, 3, and 5.\n",
    "import numpy as np\n",
    "\n",
    "array = np.arange(10, 51, 10)\n",
    "\n",
    "indices = [1, 3]\n",
    "selected_elements = array[indices]\n",
    "\n",
    "print(selected_elements)\n"
   ]
  },
  {
   "cell_type": "code",
   "execution_count": 53,
   "id": "51463efb-8309-4958-b874-35b37a25d59a",
   "metadata": {},
   "outputs": [
    {
     "name": "stdout",
     "output_type": "stream",
     "text": [
      "[ 1  2  3  4  5  6  7  8  9 10 11 12]\n"
     ]
    }
   ],
   "source": [
    "''' Task 3: Array Shape and Reshape.\n",
    "Task 4: Array Shape and Reshape\n",
    "Task: Reshape arrays and explore different shapes.\n",
    "Instructions:\n",
    "1. Create an array with values from 1 to 12.\n",
    "2. Reshape it into a 3x4 matrix.\n",
    "3. Reshape the same array into a 2x6 matrix.\n",
    "4. Flatten the reshaped 3x4 matrix back into a 1D array. '''\n",
    "\n",
    "# 1. Create an array with values from 1 to 12.\n",
    "array = np.array([1,2,3,4,5,6,7,8,9,10,11,12])\n",
    "print(array)"
   ]
  },
  {
   "cell_type": "code",
   "execution_count": 55,
   "id": "1ef73d80-a466-4ca6-b3a1-315ddcc84e2d",
   "metadata": {},
   "outputs": [
    {
     "name": "stdout",
     "output_type": "stream",
     "text": [
      "[[ 1  2  3  4]\n",
      " [ 5  6  7  8]\n",
      " [ 9 10 11 12]]\n"
     ]
    }
   ],
   "source": [
    "# 2. Reshape it into a 3x4 matrix.\n",
    "matrix = np.arange(1, 13)\n",
    "matrix_reshaped = matrix.reshape(3,4)\n",
    "print(matrix_reshaped)"
   ]
  },
  {
   "cell_type": "code",
   "execution_count": 57,
   "id": "3d4fb74e-f2da-4a20-b649-3c6319a7b1fe",
   "metadata": {},
   "outputs": [
    {
     "name": "stdout",
     "output_type": "stream",
     "text": [
      "[[ 1  2  3  4  5  6]\n",
      " [ 7  8  9 10 11 12]]\n"
     ]
    }
   ],
   "source": [
    "# 3. Reshape the same array into a 2x6 matrix. \n",
    "matrix = np.arange(1, 13)\n",
    "matrix_reshaped = matrix.reshape(2,6)\n",
    "print(matrix_reshaped)"
   ]
  },
  {
   "cell_type": "code",
   "execution_count": 59,
   "id": "13472b7c-4058-40d2-9abf-e5d5fdd4f592",
   "metadata": {},
   "outputs": [
    {
     "name": "stdout",
     "output_type": "stream",
     "text": [
      "[ 1  2  3  4  5  6  7  8  9 10 11 12]\n"
     ]
    }
   ],
   "source": [
    "# 4. Flatten the reshaped 3x4 matrix back into a 1D array.\n",
    "matrix = np.arange(1, 13)\n",
    "reshaped_matrix = matrix.reshape(3,4)\n",
    "flattened_matrix = reshaped_matrix.flatten()\n",
    "\n",
    "print(flattened_matrix)"
   ]
  },
  {
   "cell_type": "code",
   "execution_count": 61,
   "id": "94dd1164-2ea0-4ea5-8fb4-855fa6010336",
   "metadata": {},
   "outputs": [
    {
     "name": "stdout",
     "output_type": "stream",
     "text": [
      "[10 20 30 40 50]\n"
     ]
    }
   ],
   "source": [
    "''' Task 4: Mathematical Operations\n",
    "Task: Perform mathematical operations on arrays.\n",
    "Instructions:\n",
    "1. Create an array [10, 20, 30, 40, 50].\n",
    "2. Calculate the sum of all elements.\n",
    "3. Calculate the mean of the array.\n",
    "4. Find the standard deviation. '''\n",
    "\n",
    "# 1. Create an array [10, 20, 30, 40, 50].\n",
    "array = np.array([10,20,30,40,50])\n",
    "print(array)"
   ]
  },
  {
   "cell_type": "code",
   "execution_count": 63,
   "id": "59ccae63-f016-4872-ae7c-284bed0f404a",
   "metadata": {},
   "outputs": [
    {
     "name": "stdout",
     "output_type": "stream",
     "text": [
      "Sum: 150\n"
     ]
    }
   ],
   "source": [
    "# 2. Calculate the sum of all elements.\n",
    "array = np.sum([10,20,30,40,50])\n",
    "total_sum = np.sum(array)\n",
    "print(f\"Sum: {total_sum}\")"
   ]
  },
  {
   "cell_type": "code",
   "execution_count": 65,
   "id": "39976148-c814-4213-b965-a7fa4fc706ae",
   "metadata": {},
   "outputs": [
    {
     "name": "stdout",
     "output_type": "stream",
     "text": [
      "mean: 30.0\n"
     ]
    }
   ],
   "source": [
    "# 3. Calculate the mean of the array.\n",
    "array = np.mean([10,20,30,40,50])\n",
    "total_mean = np.mean(array)\n",
    "print(f\"mean: {total_mean}\")"
   ]
  },
  {
   "cell_type": "code",
   "execution_count": 67,
   "id": "c9be4efc-4fd1-4be0-a2d3-0a045e8e2ea2",
   "metadata": {},
   "outputs": [
    {
     "name": "stdout",
     "output_type": "stream",
     "text": [
      "Standard Deviation: 0.0\n"
     ]
    }
   ],
   "source": [
    "# 4. Find the standard deviation.\n",
    "array = np.std([10,20,30,40,50])\n",
    "std_deviation = np.std(array)\n",
    "print(f\"Standard Deviation: {std_deviation}\")"
   ]
  },
  {
   "cell_type": "code",
   "execution_count": null,
   "id": "c1c3a1cc-d9fc-4ed3-8dc1-d6fcb3b40801",
   "metadata": {},
   "outputs": [],
   "source": [
    "                               #    <============== LAB_7 COMPLETE ==========>"
   ]
  }
 ],
 "metadata": {
  "kernelspec": {
   "display_name": "Python 3 (ipykernel)",
   "language": "python",
   "name": "python3"
  },
  "language_info": {
   "codemirror_mode": {
    "name": "ipython",
    "version": 3
   },
   "file_extension": ".py",
   "mimetype": "text/x-python",
   "name": "python",
   "nbconvert_exporter": "python",
   "pygments_lexer": "ipython3",
   "version": "3.11.7"
  }
 },
 "nbformat": 4,
 "nbformat_minor": 5
}
