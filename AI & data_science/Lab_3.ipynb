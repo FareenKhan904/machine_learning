{
 "cells": [
  {
   "cell_type": "code",
   "execution_count": 1,
   "id": "2a5366c7-e03c-4d7f-b8e9-1d02ac6f013a",
   "metadata": {},
   "outputs": [],
   "source": [
    "                #          <============== DATA-STRUCTURE & LOOPS IN PYTHON ==========>\n",
    "                #                   -------------lab_3 --------------"
   ]
  },
  {
   "cell_type": "code",
   "execution_count": 43,
   "id": "a6e0a36e-55f1-4795-ba49-07a807ce7b0a",
   "metadata": {},
   "outputs": [
    {
     "name": "stdout",
     "output_type": "stream",
     "text": [
      "list:  ['apple', 'banana', 'mango']\n",
      "append :  ['apple', 'banana', 'mango', 'orange']\n",
      "insert:  ['apple', 'orange', 'banana', 'mango', 'orange']\n",
      "Remove:  ['apple', 'banana', 'mango', 'orange']\n",
      "Pop :  ['apple', 'banana', 'orange']\n"
     ]
    }
   ],
   "source": [
    "# 4 BUILT-IN DATATYPES ----\n",
    "# 1. LIST\n",
    "\n",
    "list = [\"apple\", \"banana\", \"mango\"]\n",
    "print(\"list: \", list)\n",
    "\n",
    "# To add a new item, use append or insert\n",
    "list.append(\"orange\")\n",
    "print( \"append : \" ,list)\n",
    "list.insert(1,\"orange\")  # isert is used for a specific index \n",
    "print(\"insert: \" ,list)\n",
    "\n",
    "# To remove an item, use remove or pop\n",
    "list.remove(\"orange\")\n",
    "print(\"Remove: \", list)\n",
    "list.pop(2)\n",
    "print(\"Pop : \", list)"
   ]
  },
  {
   "cell_type": "code",
   "execution_count": 55,
   "id": "fe4011f8-2b86-4cde-9e38-c70bc8b6a5d2",
   "metadata": {},
   "outputs": [
    {
     "name": "stdout",
     "output_type": "stream",
     "text": [
      "apple\n",
      "banana\n",
      "mango\n"
     ]
    }
   ],
   "source": [
    "# set \n",
    "thisset = {\"apple\", \"banana\", \"mango\"}\n",
    "for set in thisset:\n",
    "    print(set)"
   ]
  },
  {
   "cell_type": "code",
   "execution_count": 63,
   "id": "6d79674d-e731-4c5a-ba17-4c10cd7da058",
   "metadata": {},
   "outputs": [
    {
     "name": "stdout",
     "output_type": "stream",
     "text": [
      "{'name': 'fareen', 'reg': 2024, 'class': 'bbse'}\n"
     ]
    }
   ],
   "source": [
    "# dictionary\n",
    "thisdist = { \n",
    "    \"name\" : \"fareen\",\n",
    "    \"reg\" : 2024,\n",
    "    \"class\" : \"bbse\"}\n",
    "\n",
    "print(thisdist)\n"
   ]
  },
  {
   "cell_type": "code",
   "execution_count": 3,
   "id": "4535a462-de28-4577-a2f5-c23fa765731d",
   "metadata": {},
   "outputs": [
    {
     "name": "stdout",
     "output_type": "stream",
     "text": [
      "1\n",
      "2\n",
      "3\n",
      "4\n",
      "5\n"
     ]
    }
   ],
   "source": [
    "# while loop example\n",
    "i = 1\n",
    "while i < 6:\n",
    "    print(i)\n",
    "    i += 1\n",
    "    \n",
    "    \n",
    "     "
   ]
  },
  {
   "cell_type": "code",
   "execution_count": 7,
   "id": "57f9aa31-6d34-40ad-8522-9d26fbf7e44e",
   "metadata": {},
   "outputs": [
    {
     "name": "stdin",
     "output_type": "stream",
     "text": [
      "Enter the number of values to be input:  4\n",
      "Enter the number:  3\n",
      "Enter the number:  4\n",
      "Enter the number:  6\n",
      "Enter the number:  7\n"
     ]
    },
    {
     "name": "stdout",
     "output_type": "stream",
     "text": [
      "The sum is: 20.0\n",
      "The smallest value of entered numbers is 3.0\n"
     ]
    }
   ],
   "source": [
    "''' Task 1: Write a program that asks the user about the number of values he/she wants to enter. Than enter the values as per the required number, \n",
    "calculate its sum and identify the smallest value among them. The sample output is as follow:\n",
    "Enter the number of values to be input: 5\n",
    "Enter the number: 20\n",
    "Enter the number: 10\n",
    "Enter the number: 50\n",
    "Enter the number: 4\n",
    "Enter the number: 65\n",
    "The sum is: 149\n",
    "The smallest value of entered numbers is 4  '''\n",
    "\n",
    "num_values = int(input(\"Enter the number of values to be input: \"))\n",
    "values = []\n",
    "for _ in range(num_values):\n",
    "    value = float(input(\"Enter the number: \")) \n",
    "    values.append(value)\n",
    "\n",
    "total_sum = sum(values)\n",
    "\n",
    "smallest_value = min(values)\n",
    "\n",
    "print(f\"The sum is: {total_sum}\")\n",
    "print(f\"The smallest value of entered numbers is {smallest_value}\")\n",
    "\n",
    "\n",
    "\n"
   ]
  },
  {
   "cell_type": "code",
   "execution_count": 7,
   "id": "acd92457-d35e-4d43-9e1a-b892bb12adf4",
   "metadata": {},
   "outputs": [
    {
     "name": "stdout",
     "output_type": "stream",
     "text": [
      "Number    Factorial \n",
      "--------------------\n",
      "1         1         \n",
      "2         2         \n",
      "3         6         \n",
      "4         24        \n",
      "5         120       \n"
     ]
    }
   ],
   "source": [
    "''' Task 2: The factorial function is used frequently in probability problems. The factorial of a positive\n",
    "integer n (written n! and pronounced “n factorial”) is equal to the product of the positive integers\n",
    "from 1 to n.\n",
    "Write a function factorial that accepts an integer as a parameter and returns its factorial.\n",
    "Using the factorial function, write a program that evaluates the factorials of the integers from 1 to 5.\n",
    "Print the results in tabular format as follows. '''\n",
    "\n",
    "def factorial(n):\n",
    "    if n == 0:\n",
    "        return 1\n",
    "    result = 1\n",
    "    for i in range(1, n + 1):\n",
    "        result *= i\n",
    "    return result\n",
    "\n",
    "def print_factorials_table():\n",
    "    print(f\"{'Number':<10}{'Factorial':<10}\")\n",
    "    print(\"-\" * 20)\n",
    "    for i in range(1, 6):\n",
    "        print(f\"{i:<10}{factorial(i):<10}\")\n",
    "\n",
    "print_factorials_table()\n"
   ]
  },
  {
   "cell_type": "code",
   "execution_count": 3,
   "id": "ff7a36c9-05e3-4392-9b31-826c375a8a73",
   "metadata": {},
   "outputs": [
    {
     "name": "stdout",
     "output_type": "stream",
     "text": [
      "I have chosen a number between 1 and 10. Try to guess it. \n"
     ]
    },
    {
     "name": "stdin",
     "output_type": "stream",
     "text": [
      "Your guess:  3\n"
     ]
    },
    {
     "name": "stdout",
     "output_type": "stream",
     "text": [
      "Sorry! You can`t guessed the number 3\n"
     ]
    },
    {
     "name": "stdin",
     "output_type": "stream",
     "text": [
      "Your guess:  4\n"
     ]
    },
    {
     "name": "stdout",
     "output_type": "stream",
     "text": [
      "Sorry! You can`t guessed the number 4\n"
     ]
    },
    {
     "name": "stdin",
     "output_type": "stream",
     "text": [
      "Your guess:  5\n"
     ]
    },
    {
     "name": "stdout",
     "output_type": "stream",
     "text": [
      "Congratulations! You guessed the number. 5\n"
     ]
    }
   ],
   "source": [
    "''' Task 3: Write a program that plays an incredibly stupid number-guessing game. The user will try to\n",
    "guess the secret number until they get it right. That means it will keep looping as long as the guess is\n",
    "different from the secret number. You must store the secret number in a variable, and use that\n",
    "variable throughout. The secret number itself must not appear in the program at all, except in the\n",
    "one line where you store it into a variable. Sample output is as following:\n",
    "I have chosen a number between 1 and 10. Try to guess it.\n",
    "Your guess: 5\n",
    "That is incorrect. Guess again.\n",
    "Your guess: 4\n",
    "That is incorrect. Guess again. '''\n",
    "\n",
    "def number_guessing_game():\n",
    "    secret_number = 5\n",
    "    print(\"I have chosen a number between 1 and 10. Try to guess it. \")\n",
    "\n",
    "    while True:\n",
    "        guess_number = int(input(\"Your guess: \"))\n",
    "\n",
    "        if guess_number  == secret_number:\n",
    "            print(\"Congratulations! You guessed the number.\" , guess_number)\n",
    "            break\n",
    "\n",
    "        else:\n",
    "            print(\"Sorry! You can`t guessed the number\" , guess_number)\n",
    "\n",
    "number_guessing_game()\n"
   ]
  },
  {
   "cell_type": "code",
   "execution_count": 52,
   "id": "5b0198ff-0e77-4c08-9142-46371e5eeebc",
   "metadata": {},
   "outputs": [
    {
     "name": "stdout",
     "output_type": "stream",
     "text": [
      "The GCD of 48 and 18 is 18\n"
     ]
    }
   ],
   "source": [
    "''' Task 4: The greatest common divisor (GCD) of two integers is the largest integer that evenly\n",
    "divides each of the two numbers. Write function gcd that returns the greatest common divisor of\n",
    "two integers.\n",
    "Use the gcd function in your program to determine the GCD of the numbers in the sample output: '''\n",
    "\n",
    "def gcd(a, b):\n",
    "    b != 0\n",
    "    a, b = b, a % b\n",
    "    return a\n",
    "\n",
    "def main():\n",
    "    num1 = 48\n",
    "    num2 = 18\n",
    "    \n",
    "    result = gcd(num1, num2)\n",
    "    print(f\"The GCD of {num1} and {num2} is {result}\")\n",
    "    \n",
    "main()\n",
    "\n",
    "\n"
   ]
  },
  {
   "cell_type": "code",
   "execution_count": 56,
   "id": "cb058caf-e57f-4a2b-93af-2a00b8a3692c",
   "metadata": {},
   "outputs": [
    {
     "name": "stdout",
     "output_type": "stream",
     "text": [
      "4-digit Armstrong numbers are:\n",
      "1634\n",
      "8208\n",
      "9474\n"
     ]
    }
   ],
   "source": [
    "# Task 6: Write a code that prints on screen all the 4-digit Armstrong numbers.\n",
    "\n",
    "def is_armstrong_number(num):\n",
    "    str_num = str(num)\n",
    "    sum_of_powers = sum(int(digit) ** 4 for digit in str_num)\n",
    "    return sum_of_powers == num\n",
    "\n",
    "def find_armstrong_numbers():\n",
    "    print(\"4-digit Armstrong numbers are:\")\n",
    "    for num in range(1000, 10000):\n",
    "        if is_armstrong_number(num):\n",
    "            print(num)\n",
    "            \n",
    "find_armstrong_numbers()\n"
   ]
  },
  {
   "cell_type": "code",
   "execution_count": 68,
   "id": "cba1c5b7-fcbe-47be-97c7-86a5361c0264",
   "metadata": {},
   "outputs": [
    {
     "name": "stdout",
     "output_type": "stream",
     "text": [
      "1 Your Name\n",
      "2 Your Name\n",
      "3 Your Name\n",
      "4 Your Name\n",
      "5 Your Name\n",
      "6 Your Name\n",
      "7 Your Name\n",
      "8 Your Name\n",
      "9 Your Name\n",
      "10 Your Name\n",
      "11 Your Name\n",
      "12 Your Name\n",
      "13 Your Name\n",
      "14 Your Name\n",
      "15 Your Name\n",
      "16 Your Name\n",
      "17 Your Name\n",
      "18 Your Name\n",
      "19 Your Name\n",
      "20 Your Name\n",
      "21 Your Name\n",
      "22 Your Name\n",
      "23 Your Name\n",
      "24 Your Name\n",
      "25 Your Name\n",
      "26 Your Name\n",
      "27 Your Name\n",
      "28 Your Name\n",
      "29 Your Name\n",
      "30 Your Name\n",
      "31 Your Name\n",
      "32 Your Name\n",
      "33 Your Name\n",
      "34 Your Name\n",
      "35 Your Name\n",
      "36 Your Name\n",
      "37 Your Name\n",
      "38 Your Name\n",
      "39 Your Name\n",
      "40 Your Name\n",
      "41 Your Name\n",
      "42 Your Name\n",
      "43 Your Name\n",
      "44 Your Name\n",
      "45 Your Name\n",
      "46 Your Name\n",
      "47 Your Name\n",
      "48 Your Name\n",
      "49 Your Name\n",
      "50 Your Name\n",
      "51 Your Name\n",
      "52 Your Name\n",
      "53 Your Name\n",
      "54 Your Name\n",
      "55 Your Name\n",
      "56 Your Name\n",
      "57 Your Name\n",
      "58 Your Name\n",
      "59 Your Name\n",
      "60 Your Name\n",
      "61 Your Name\n",
      "62 Your Name\n",
      "63 Your Name\n",
      "64 Your Name\n",
      "65 Your Name\n",
      "66 Your Name\n",
      "67 Your Name\n",
      "68 Your Name\n",
      "69 Your Name\n",
      "70 Your Name\n",
      "71 Your Name\n",
      "72 Your Name\n",
      "73 Your Name\n",
      "74 Your Name\n",
      "75 Your Name\n",
      "76 Your Name\n",
      "77 Your Name\n",
      "78 Your Name\n",
      "79 Your Name\n",
      "80 Your Name\n",
      "81 Your Name\n",
      "82 Your Name\n",
      "83 Your Name\n",
      "84 Your Name\n",
      "85 Your Name\n",
      "86 Your Name\n",
      "87 Your Name\n",
      "88 Your Name\n",
      "89 Your Name\n",
      "90 Your Name\n",
      "91 Your Name\n",
      "92 Your Name\n",
      "93 Your Name\n",
      "94 Your Name\n",
      "95 Your Name\n",
      "96 Your Name\n",
      "97 Your Name\n",
      "98 Your Name\n",
      "99 Your Name\n",
      "100 Your Name\n"
     ]
    }
   ],
   "source": [
    "# Write a program that outputs 100 lines, numbered 1 to 100, each with your name on it. The output should look like the output below:\n",
    "\n",
    "def number_line(name):\n",
    "    for i in range(1, 101): \n",
    "        print(i ,name)\n",
    "\n",
    "number_line(\"Your Name\")\n",
    "\n"
   ]
  },
  {
   "cell_type": "code",
   "execution_count": 101,
   "id": "bcb39b3c-1026-4683-a862-09b177a63512",
   "metadata": {},
   "outputs": [
    {
     "name": "stdout",
     "output_type": "stream",
     "text": [
      " Integer   Square\n",
      "\n",
      "1           1\n",
      "2           4\n",
      "3           9\n",
      "4           16\n",
      "5           25\n",
      "6           36\n",
      "7           49\n",
      "8           64\n",
      "9           81\n",
      "10          100\n",
      "11          121\n",
      "12          144\n",
      "13          169\n",
      "14          196\n",
      "15          225\n",
      "16          256\n",
      "17          289\n",
      "18          324\n",
      "19          361\n",
      "20          400\n"
     ]
    }
   ],
   "source": [
    "# Task 8: Write a program that prints out a list of the integers from 1 to 20 and their squares. The output should look like this:\n",
    "\n",
    "def integer_and_square():\n",
    "    print(\" Integer   Square\\n\")\n",
    "    for i in range(1, 21): \n",
    "         square = i**2\n",
    "         print(f\"{i:<12}{square}\")\n",
    "\n",
    "\n",
    "integer_and_square()   \n"
   ]
  },
  {
   "cell_type": "code",
   "execution_count": 105,
   "id": "be15d72b-54e4-4bae-9425-e3456260c70a",
   "metadata": {},
   "outputs": [
    {
     "name": "stdout",
     "output_type": "stream",
     "text": [
      "8\n",
      "11\n",
      "14\n",
      "17\n",
      "20\n",
      "23\n",
      "26\n",
      "29\n",
      "32\n",
      "35\n",
      "38\n",
      "41\n",
      "44\n",
      "47\n",
      "50\n",
      "53\n",
      "56\n",
      "59\n",
      "62\n",
      "65\n",
      "68\n",
      "71\n",
      "74\n",
      "77\n",
      "80\n",
      "83\n",
      "86\n",
      "89\n"
     ]
    }
   ],
   "source": [
    "#  Write a program that uses a for loop to print the numbers 8, 11, 14, 17, 20, . . . , 83, 86, 89.\n",
    "def print_sequence():\n",
    "    start = 8        \n",
    "    end = 89          \n",
    "    step = 3\n",
    "    \n",
    "    for number in range(start, end + 1, step):\n",
    "        print(number)\n",
    "        \n",
    "print_sequence()\n"
   ]
  },
  {
   "cell_type": "code",
   "execution_count": 137,
   "id": "e1f7a908-8bf5-43a6-8e5d-8cb3fe03dadb",
   "metadata": {},
   "outputs": [
    {
     "name": "stdin",
     "output_type": "stream",
     "text": [
      "Enter your name:  fareen\n",
      "How many times would you like to print your name?  5\n"
     ]
    },
    {
     "name": "stdout",
     "output_type": "stream",
     "text": [
      "fareen\n",
      "fareen\n",
      "fareen\n",
      "fareen\n",
      "fareen\n"
     ]
    }
   ],
   "source": [
    "'''Task 10: Write a program that asks the user for their name and how many times to print it. \n",
    "The program should print out the user’s name the specified number of times.'''\n",
    "\n",
    "def print_name_multiple_times():\n",
    "    # Ask the user for their name\n",
    "    name = input(\"Enter your name: \")\n",
    "    \n",
    "    # Ask the user how many times to print the name\n",
    "    while True:\n",
    "        try:\n",
    "            times = int(input(\"How many times would you like to print your name? \"))\n",
    "            if times < 1:\n",
    "                raise ValueError(\"Number must be greater than 0.\")\n",
    "            break\n",
    "        except ValueError as e:\n",
    "            print(f\"Invalid input: {e}. Please enter a positive integer.\")\n",
    "    \n",
    "    for _ in range(times):\n",
    "        print(name)\n",
    "\n",
    "print_name_multiple_times()\n",
    "\n"
   ]
  },
  {
   "cell_type": "code",
   "execution_count": 147,
   "id": "cdd6553f-265d-4470-9167-0de078b4057e",
   "metadata": {},
   "outputs": [
    {
     "name": "stdout",
     "output_type": "stream",
     "text": [
      "******************************\n",
      "******************************\n",
      "******************************\n",
      "******************************\n",
      "******************************\n"
     ]
    }
   ],
   "source": [
    "''' Task 11: Use a for loop to print a box like the one below. Allow the user to specify how wide and how high the box should be.\n",
    "**************************\n",
    "**************************\n",
    "************************** '''\n",
    "\n",
    "def draw_box(rows, columns):\n",
    "    for _ in range(rows):\n",
    "        print('*' * columns)\n",
    "\n",
    "def main():\n",
    "    rows = 5\n",
    "    columns = 30\n",
    "    draw_box(rows, columns)\n",
    "    \n",
    "main()\n",
    "\n"
   ]
  },
  {
   "cell_type": "code",
   "execution_count": 5,
   "id": "aed0b5f7-039a-4584-9028-de2734c3a44d",
   "metadata": {},
   "outputs": [
    {
     "name": "stdin",
     "output_type": "stream",
     "text": [
      "Enter the height of triangle : 9\n"
     ]
    },
    {
     "name": "stdout",
     "output_type": "stream",
     "text": [
      "*\n",
      "**\n",
      "***\n",
      "****\n",
      "*****\n",
      "******\n",
      "*******\n",
      "********\n",
      "*********\n"
     ]
    }
   ],
   "source": [
    "''' Task 12: Use a for loop to print a triangle like the one below. Allow the user to specify how high the triangle should be.\n",
    "*\n",
    "**\n",
    "***\n",
    "**** '''\n",
    "\n",
    "triangle = int(input(\"Enter the height of triangle :\"))\n",
    "for i in range(triangle):\n",
    "    print('*'*(i+1))\n"
   ]
  },
  {
   "cell_type": "code",
   "execution_count": 9,
   "id": "a0a6a0ec-23f8-4207-947e-763d9ab9ae9d",
   "metadata": {},
   "outputs": [
    {
     "name": "stdin",
     "output_type": "stream",
     "text": [
      "Enter the height of the giant letter A : 7\n"
     ]
    },
    {
     "name": "stdout",
     "output_type": "stream",
     "text": [
      "      * *\n",
      "     *   *\n",
      "    *     *\n",
      "  *         *\n",
      " *           *\n"
     ]
    }
   ],
   "source": [
    "# Task 14: Write a program that prints a giant letter A like the one below. Allow the user to specify how large the letter should be.\n",
    "giant_A = int(input(\"Enter the height of the giant letter A :\"))\n",
    "a=giant_A + 1\n",
    "for i in range(1,a):\n",
    "    space = i-2\n",
    "    if space>0 and i!=a//2+1:\n",
    "        print(' '*(a-i),end='')\n",
    "        print('*',' '*(2*space+1),'*',sep='')\n",
    "    elif space== 0 and i!=a//2+1:\n",
    "        print(' '*(a-i),end='')\n",
    "        print('*',' '*(2*space+1),'*',sep='')"
   ]
  },
  {
   "cell_type": "code",
   "execution_count": null,
   "id": "b94be353-ea24-49b2-befa-1625bccdc89a",
   "metadata": {},
   "outputs": [],
   "source": [
    "                                  #    <============== LAB_4 COMPLETE ==========>"
   ]
  }
 ],
 "metadata": {
  "kernelspec": {
   "display_name": "Python 3 (ipykernel)",
   "language": "python",
   "name": "python3"
  },
  "language_info": {
   "codemirror_mode": {
    "name": "ipython",
    "version": 3
   },
   "file_extension": ".py",
   "mimetype": "text/x-python",
   "name": "python",
   "nbconvert_exporter": "python",
   "pygments_lexer": "ipython3",
   "version": "3.11.7"
  }
 },
 "nbformat": 4,
 "nbformat_minor": 5
}
