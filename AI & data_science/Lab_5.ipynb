{
 "cells": [
  {
   "cell_type": "code",
   "execution_count": 1,
   "id": "18c31aef-8a45-4832-8026-0c77988972fa",
   "metadata": {},
   "outputs": [],
   "source": [
    "                #          <==============  String and List Methods ==========>\n",
    "                #                   -------------lab_5 --------------"
   ]
  },
  {
   "cell_type": "code",
   "execution_count": 3,
   "id": "8b31fa67-96de-4112-b617-2a5b1710f78f",
   "metadata": {},
   "outputs": [
    {
     "name": "stdin",
     "output_type": "stream",
     "text": [
      "Enter a line of text fareen\n"
     ]
    },
    {
     "name": "stdout",
     "output_type": "stream",
     "text": [
      "The line in uppercase is FAREEN\n",
      "The line in lowercase is fareen\n"
     ]
    }
   ],
   "source": [
    "# 1.\tWrite a program that inputs a line of text. Output the text in uppercase letters and in lowercase letters using built-in functions.\n",
    "\n",
    "text=input(\"Enter a line of text\")\n",
    "print(\"The line in uppercase is\",text.upper())\n",
    "print(\"The line in lowercase is\",text.lower())"
   ]
  },
  {
   "cell_type": "code",
   "execution_count": 1,
   "id": "a8e2fee6-9799-4cb8-bed5-d0b991ec13d7",
   "metadata": {},
   "outputs": [
    {
     "name": "stdin",
     "output_type": "stream",
     "text": [
      "Enter a string: A simple way to estimate the number of words in a string is to count the number of spaces in the string.\n"
     ]
    },
    {
     "name": "stdout",
     "output_type": "stream",
     "text": [
      "Number of words in a string are:  22\n"
     ]
    }
   ],
   "source": [
    "'''2. A simple way to estimate the number of words in a string is to count the number of spaces in the string.\n",
    "Write a program that asks the user for a string and returns an estimate of how many words are in the string.'''\n",
    "\n",
    "text=input(\"Enter a string:\")\n",
    "print(\"Number of words in a string are: \",text.count(\" \")+1)\n"
   ]
  },
  {
   "cell_type": "code",
   "execution_count": 3,
   "id": "84b237b0-1419-48ec-928e-733a8f9bfdb0",
   "metadata": {},
   "outputs": [
    {
     "name": "stdin",
     "output_type": "stream",
     "text": [
      "Enter a string:  fareen khan\n"
     ]
    },
    {
     "name": "stdout",
     "output_type": "stream",
     "text": [
      "fareen khan\n"
     ]
    }
   ],
   "source": [
    "'''3. Write a program that asks the user to enter a string s and then converts s to lowercase, removes all the periods and commas from s, \n",
    "and prints the resulting string.(Hint: use the split method) '''\n",
    "\n",
    "s=input(\"Enter a string: \")\n",
    "lower=s.lower();\n",
    "final=lower.replace('.',\" \").split(\",\")\n",
    "join1=' '.join(final)\n",
    "print(join1)"
   ]
  },
  {
   "cell_type": "code",
   "execution_count": 13,
   "id": "ce4708ff-4d6b-4d6f-9d21-82d3176ed22b",
   "metadata": {},
   "outputs": [
    {
     "name": "stdout",
     "output_type": "stream",
     "text": [
      "[2345, 3456, 2819, 2738, 4234]\n",
      "4\n",
      "[4353, 2314, 2956, 3382, 9362, 4499, 3900]\n",
      "[4353, 2314, 2956, 3382, 9362, 4499, 3900, 5566, 1830]\n",
      "[1830, 5566, 3900, 4499, 9362, 3382, 2956, 2314, 4353]\n",
      "[1830, 2314, 2956, 3382, 3900, 4353, 4499, 5566, 9362]\n"
     ]
    }
   ],
   "source": [
    "'''4. A variable ids refers to the list [4353, 2314, 2956, 3382, 9362, 3900]. Using list methods, do the following:\n",
    "a. Remove 3382 from the list.\n",
    "b. Get the index of 9362.\n",
    "c. Insert 4499 in the list after 9362.\n",
    "d. Extend the list by adding [5566, 1830] to it.\n",
    "e. Reverse the list.\n",
    "f. Sort the list. '''\n",
    "\n",
    "list1=[2345,2819,3456,2819,2738,4234]\n",
    "list11=[4353,2314,2956,3382,9362,3900]\n",
    "#remove from list\n",
    "list2=list1.remove(2819)\n",
    "print(list1)\n",
    "#finding index\n",
    "a=list11.index(9362)\n",
    "print(a)\n",
    "#for insert a number\n",
    "b=list11.insert(5,4499)\n",
    "print(list11)\n",
    "#to extend\n",
    "c=list11.extend([5566,1830])\n",
    "print(list11)\n",
    "#reverse the list\n",
    "list11.reverse()\n",
    "print(list11)\n",
    "#sort the list\n",
    "list11.sort()\n",
    "print(list11)\n"
   ]
  },
  {
   "cell_type": "code",
   "execution_count": 15,
   "id": "6647123a-d762-4570-9b00-8d64b4dfb2d2",
   "metadata": {},
   "outputs": [
    {
     "name": "stdout",
     "output_type": "stream",
     "text": [
      "2 2.835 %\n",
      "3 5.625 %\n",
      "4 8.197000000000001 %\n",
      "5 11.149000000000001 %\n",
      "6 13.885 %\n",
      "7 16.666 %\n",
      "8 13.874 %\n",
      "9 10.939 %\n",
      "10 8.432 %\n",
      "11 5.547 %\n",
      "12 2.85 %\n"
     ]
    }
   ],
   "source": [
    "''' 5. When playing games where you have to roll two dice, it is nice to know the odds of each roll. \n",
    "For instance, the odds of rolling a 12 are about 3%, and the odds of rolling a 7 are about 17%. \n",
    "You can compute these mathematically, but if you don’t know the math, you can write a program to do it.\n",
    "To do this, your program should simulate rolling two dice about 10,000 times and compute and\n",
    "print out the percentage of rolls that come out to be 2, 3, 4, . . . , 12. Print the results in a table format. '''\n",
    "\n",
    "import random\n",
    "\n",
    "list1=[]\n",
    "for i in range(1,100000):\n",
    "    dice1=random.randint(1,6)\n",
    "    dice2=random.randint(1,6)\n",
    "    sum=dice1+dice2;\n",
    "    list1.append(sum);\n",
    "for j in range(2,13):\n",
    "    print(j,list1.count(j)/100000*100,\"%\")\n",
    " \n",
    "#print(list1)\n",
    "    "
   ]
  },
  {
   "cell_type": "code",
   "execution_count": 17,
   "id": "118c69a8-ce59-410e-8190-49df590b67b9",
   "metadata": {},
   "outputs": [
    {
     "name": "stdout",
     "output_type": "stream",
     "text": [
      "Mean= 48.45454545454545\n",
      "Median= 78\n",
      "Mode= 79 frequency 4\n",
      "test list [12, 77, 55, 56, 79, 21, 39, 11, 38, 41, 51, 66, 58, 69, 64, 43, 8, 26, 88, 50, 30, 11, 63, 92, 75, 82, 31, 43, 82, 78, 81, 92, 65, 31, 12, 52, 93, 33, 73, 68, 99, 86, 20, 19, 68, 56, 58, 57, 97, 78, 78, 36, 94, 20, 36, 5, 14, 24, 48, 16, 1, 51, 63, 7, 5, 85, 15, 58, 91, 80, 98, 1, 22, 19, 15, 72, 55, 95, 21, 11, 2, 37, 33, 60, 92, 28, 51, 10, 87, 51, 9, 83, 6, 55, 82, 26, 11, 27, 34]\n"
     ]
    }
   ],
   "source": [
    "''' 6. Write a function each for mean, median and mode that accepts a list as an argument.\n",
    "The mean, median, and mode functions return an integer. a. Using these functions, write a program that generates a 99-element\n",
    "list of random numbers between 1 and 100 (inclusive) and computes its mean, median, mode. '''\n",
    "\n",
    "import random\n",
    "\n",
    "def mean_fun(list1):\n",
    "    result=0;\n",
    "    for i in list1:\n",
    "        result=result+i\n",
    "    total=len(list1);\n",
    "    mean=result/total;\n",
    "    \n",
    "    return mean\n",
    "def median_fun(list1):\n",
    "    \n",
    "    length=len(list1);\n",
    "   \n",
    "    if length%2!=0:\n",
    "        mode=(length+1)/2;\n",
    "        \n",
    "        return mode\n",
    "    \n",
    "def mode_fun(list1):\n",
    "    list2=[]\n",
    "    for i in range(1,100):\n",
    "        coun=list1.count(i)\n",
    "        list2.append(coun)\n",
    "        result=max(list2)\n",
    "        result1=list1[result]\n",
    "    #print(\"frequncy is\",result)\n",
    "    \n",
    "    return result1,result\n",
    "        \n",
    "#list1=[5,8,2,2,6,1,8,2,4,3,5];\n",
    "list1=[]\n",
    "for i in range(1,100):\n",
    "    r=random.randint(1,100)\n",
    "    list1.append(r)\n",
    "    \n",
    "total1=mean_fun(list1);\n",
    "total2=int(median_fun(list1));\n",
    "total13,totall4=mode_fun(list1);\n",
    "print(\"Mean=\",total1)\n",
    "print(\"Median=\",list1[total2-1])\n",
    "print(\"Mode=\",total13,\"frequency\",totall4)\n",
    "print(\"test list\",list1)\n"
   ]
  },
  {
   "cell_type": "code",
   "execution_count": 25,
   "id": "62c4332c-f9a2-4d81-a85f-0f3d751ab780",
   "metadata": {},
   "outputs": [
    {
     "name": "stdout",
     "output_type": "stream",
     "text": [
      "Rotating list: [1, 4, 8, 9, 6, 2, 5, 4, 3, 2]\n"
     ]
    }
   ],
   "source": [
    "''' 7. Write a program that rotates the elements of a list so that the element at the first index moves to the second index, \n",
    "the element in the second index moves to the third index, etc., and the element in the last index moves to the first index '''\n",
    "\n",
    "def rot_r(lst, k):  \n",
    "    rotated_lst = lst[-k:] + lst[:-k]\n",
    "    return rotated_lst\n",
    "\n",
    "lst = [4, 8, 9, 6, 2, 5, 4, 3, 2, 1]\n",
    "result = rot_r(lst, 1)\n",
    "print(\"Rotating list:\", result)\n"
   ]
  },
  {
   "cell_type": "code",
   "execution_count": 27,
   "id": "6a8d5a16-6ce5-40c4-94a9-f6fd2ac85469",
   "metadata": {},
   "outputs": [
    {
     "name": "stdout",
     "output_type": "stream",
     "text": [
      "[0, 1, 0, 0, 1, 0, 0, 1, 1, 0, 0, 0, 0, 0, 1, 1, 0, 1, 1, 1, 0, 1, 0, 0, 0, 1, 1, 0, 0, 1, 0, 0, 0, 0, 0, 0, 1, 0, 0, 0, 0, 1, 1, 0, 1, 0, 0, 0, 0, 0, 0, 0, 1, 0, 1, 1, 0, 0, 0, 1, 1, 0, 0, 0, 1, 1, 1, 0, 0, 1, 0, 1, 1, 1, 1, 0, 0, 1, 0, 0, 0, 0, 0, 0, 0, 0, 0, 1, 1, 0, 0, 0, 0, 0, 0, 0, 1, 1, 1, 1]\n",
      "The longest run of zeros of random numbers is:  9\n"
     ]
    }
   ],
   "source": [
    "'''8. Write a program that generates 100 random integers that are either 0 or 1. \n",
    "Then find the longest run of zeros, the largest number of zeros in a row. For instance, the longest run of zeros in [1,0,1,1,0,0,0,0,1,0,0] is 4.'''\n",
    "\n",
    "import random\n",
    "list1=[]\n",
    "\n",
    "for i in range(0,100):\n",
    "    random1=random.randint(0,1)\n",
    "    list1.append(random1)\n",
    "print(list1)\n",
    "count=0\n",
    "list2=[]\n",
    "\n",
    "for j in list1:\n",
    "    if j==0:\n",
    "        count=count+1\n",
    "        list2.append(count)\n",
    "        \n",
    "        maximum=max(list2)\n",
    "        \n",
    "    else:\n",
    "        count=0\n",
    "        \n",
    "print(\"\\nThe longest run of zeros of random numbers is: \",maximum)\n"
   ]
  },
  {
   "cell_type": "code",
   "execution_count": 3,
   "id": "7f47ac06-c454-43ef-8dbc-b8e7403a5286",
   "metadata": {},
   "outputs": [
    {
     "name": "stdin",
     "output_type": "stream",
     "text": [
      "Enter number of rows:  2\n",
      "Enter number of col:  2\n",
      "Enter a number for matrix[i][j] 3\n",
      "Enter a number for matrix[i][j] 4\n",
      "Enter a number for matrix[i][j] 1\n",
      "Enter a number for matrix[i][j] 2\n"
     ]
    },
    {
     "name": "stdout",
     "output_type": "stream",
     "text": [
      "Orignal matrix:  [[3, 4], [1, 2]]\n",
      "The transpose of matrix is: [[3, 1], [4, 2]]\n",
      "multiplication of matrix:\n",
      "[25, 11]\n",
      "[11, 5]\n"
     ]
    }
   ],
   "source": [
    "''' 9. . Read the size of the matrix from the user. Populate it with data from the user. \n",
    "Print the original ,transpose and product of the matrices on the screen. '''\n",
    "\n",
    "rows=int(input(\"Enter number of rows: \"))\n",
    "columns=int(input(\"Enter number of col: \"))\n",
    "matrix=[]\n",
    "transpose=[]\n",
    "result=[]\n",
    "\n",
    "for i in range(0,rows):\n",
    "    list1=[]\n",
    "    for j in range(0,columns):\n",
    "        \n",
    "        number=int(input(\"Enter a number for matrix[i][j]\"))\n",
    "        list1.insert(j,number)\n",
    "    matrix.insert(i,list1)\n",
    "print(\"Orignal matrix: \" ,matrix)\n",
    " \n",
    "#Transpose of matrix\n",
    "for i in range(0,rows):\n",
    "    list2=[]\n",
    "        \n",
    "    for j in range(0,columns):\n",
    "            \n",
    "        #print(matrix[i][j])\n",
    "        list2.append(matrix[j][i])\n",
    "    transpose.insert(i,list2)\n",
    "print(\"The transpose of matrix is:\",transpose)\n",
    "\n",
    "for i in range(rows):\n",
    "    row = []\n",
    "    for j in range(columns):\n",
    "        sum = 0\n",
    "        for k in range(columns):\n",
    "            sum += matrix[i][k] * transpose[k][j]\n",
    "        row.append(sum)\n",
    "    result.append(row)\n",
    "\n",
    "print(\"multiplication of matrix:\")\n",
    "\n",
    "for row in result:\n",
    "    print(row)"
   ]
  },
  {
   "cell_type": "code",
   "execution_count": null,
   "id": "e5373943-3bf3-49f6-bec2-a08b2e2b2976",
   "metadata": {},
   "outputs": [],
   "source": [
    "                                #    <============== LAB_5 COMPLETE ==========>"
   ]
  },
  {
   "cell_type": "code",
   "execution_count": null,
   "id": "32c4c2bf-41d0-42d7-bbd8-e30aea6de6ee",
   "metadata": {},
   "outputs": [],
   "source": []
  }
 ],
 "metadata": {
  "kernelspec": {
   "display_name": "Python 3 (ipykernel)",
   "language": "python",
   "name": "python3"
  },
  "language_info": {
   "codemirror_mode": {
    "name": "ipython",
    "version": 3
   },
   "file_extension": ".py",
   "mimetype": "text/x-python",
   "name": "python",
   "nbconvert_exporter": "python",
   "pygments_lexer": "ipython3",
   "version": "3.11.7"
  }
 },
 "nbformat": 4,
 "nbformat_minor": 5
}
