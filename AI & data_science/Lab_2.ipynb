{
 "cells": [
  {
   "cell_type": "code",
   "execution_count": 1,
   "id": "9239b78a-2e11-40f5-9c8d-7d63fe40dcd0",
   "metadata": {},
   "outputs": [
    {
     "name": "stdout",
     "output_type": "stream",
     "text": [
      "6\n"
     ]
    }
   ],
   "source": [
    "print ( 9 - 3 )"
   ]
  },
  {
   "cell_type": "code",
   "execution_count": 3,
   "id": "d2bf7df4-5887-49b1-993e-a4b5dac16c4e",
   "metadata": {},
   "outputs": [
    {
     "name": "stdout",
     "output_type": "stream",
     "text": [
      "20.0\n"
     ]
    }
   ],
   "source": [
    "print ( 8 * 2.5)"
   ]
  },
  {
   "cell_type": "code",
   "execution_count": 5,
   "id": "8a71b417-f517-44d9-a499-9387234d9d08",
   "metadata": {},
   "outputs": [
    {
     "name": "stdout",
     "output_type": "stream",
     "text": [
      "4.5\n"
     ]
    }
   ],
   "source": [
    "print (9 / 2)"
   ]
  },
  {
   "cell_type": "code",
   "execution_count": 1,
   "id": "e465d7d0-9929-4fff-a2e1-91919cd3acca",
   "metadata": {},
   "outputs": [
    {
     "name": "stdout",
     "output_type": "stream",
     "text": [
      "-4.5\n"
     ]
    }
   ],
   "source": [
    "print (9 / -2)"
   ]
  },
  {
   "cell_type": "code",
   "execution_count": 3,
   "id": "979c8959-65f2-476d-bfe2-ab8f07c71363",
   "metadata": {},
   "outputs": [
    {
     "name": "stdout",
     "output_type": "stream",
     "text": [
      "-5\n"
     ]
    }
   ],
   "source": [
    "print ( 9 // -2)"
   ]
  },
  {
   "cell_type": "code",
   "execution_count": 5,
   "id": "266b4b54-e145-489a-a87e-b750b31219de",
   "metadata": {},
   "outputs": [
    {
     "name": "stdout",
     "output_type": "stream",
     "text": [
      "1\n"
     ]
    }
   ],
   "source": [
    "print (9 % 2)"
   ]
  },
  {
   "cell_type": "code",
   "execution_count": 7,
   "id": "8bd1fd27-23e6-40b1-8d18-1ced710b158f",
   "metadata": {},
   "outputs": [
    {
     "name": "stdout",
     "output_type": "stream",
     "text": [
      "1.0\n"
     ]
    }
   ],
   "source": [
    "print (9.0 % 2 )"
   ]
  },
  {
   "cell_type": "code",
   "execution_count": 9,
   "id": "a73c2e2e-762e-43ac-b812-ec657a839365",
   "metadata": {},
   "outputs": [
    {
     "name": "stdout",
     "output_type": "stream",
     "text": [
      "1.0\n"
     ]
    }
   ],
   "source": [
    "print (9 % 2.0)"
   ]
  },
  {
   "cell_type": "code",
   "execution_count": 11,
   "id": "a15997e1-9df7-4ddd-b8e8-7e8412f233a1",
   "metadata": {},
   "outputs": [
    {
     "name": "stdout",
     "output_type": "stream",
     "text": [
      "-1.0\n"
     ]
    }
   ],
   "source": [
    "print (9 % -2.0)"
   ]
  },
  {
   "cell_type": "code",
   "execution_count": 13,
   "id": "01bc7d75-5aea-4b5a-9bb9-8287907eb1bd",
   "metadata": {},
   "outputs": [
    {
     "name": "stdout",
     "output_type": "stream",
     "text": [
      "19\n"
     ]
    }
   ],
   "source": [
    "print (4 + 3 * 5)"
   ]
  },
  {
   "cell_type": "code",
   "execution_count": 15,
   "id": "8a0b0791-07a6-4795-a51b-1fdeecde5c71",
   "metadata": {},
   "outputs": [
    {
     "name": "stdout",
     "output_type": "stream",
     "text": [
      "35\n"
     ]
    }
   ],
   "source": [
    "print ((4 + 3) * 5)"
   ]
  },
  {
   "cell_type": "code",
   "execution_count": 27,
   "id": "8104bff9-c844-49b5-acf0-ff1cee2e7153",
   "metadata": {},
   "outputs": [
    {
     "name": "stdout",
     "output_type": "stream",
     "text": [
      "7 --- 14 --- 21 --- 28 --- 35\n"
     ]
    }
   ],
   "source": [
    "# Create a variable x that stores an integer. Print out x, 2x, 3x, 4x, and 5x, each separated by three dashes, \n",
    "# like below if x=7. (hint: use multiplication operator and print function)\n",
    "\n",
    "# 7---14---21---28---35\n",
    "\n",
    "x = 7\n",
    "print (x , \"---\" , x*2 , \"---\" , x*3 , \"---\" , x*4 , \"---\" , x*5)\n"
   ]
  },
  {
   "cell_type": "code",
   "execution_count": 31,
   "id": "c2f50242-016e-4dc4-8026-05cc67fd9d57",
   "metadata": {},
   "outputs": [
    {
     "name": "stdin",
     "output_type": "stream",
     "text": [
      "Enter a number:  4\n"
     ]
    },
    {
     "name": "stdout",
     "output_type": "stream",
     "text": [
      "4   <class 'int'>\n"
     ]
    },
    {
     "name": "stdin",
     "output_type": "stream",
     "text": [
      "Enter a decimal number:  6.7\n"
     ]
    },
    {
     "name": "stdout",
     "output_type": "stream",
     "text": [
      "6.7   <class 'float'>\n"
     ]
    }
   ],
   "source": [
    "# num = int(input(\"Enter a number: \"))\n",
    "# print(num, \" \", type(num))\n",
    "# floatNum = float(input(\"Enter a decimal number: \"))\n",
    "# print(floatNum, \" \", type(floatNum))\n",
    "\n",
    "num = int(input(\"Enter a number: \"))\n",
    "print(num, \" \", type(num))\n",
    "floatNum = float(input(\"Enter a decimal number: \"))\n",
    "print(floatNum, \" \", type(floatNum))\n",
    "\n"
   ]
  },
  {
   "cell_type": "code",
   "execution_count": 39,
   "id": "098f5bb8-4ad0-4fcc-8019-1936cf66e933",
   "metadata": {},
   "outputs": [
    {
     "name": "stdin",
     "output_type": "stream",
     "text": [
      "Enter 1st number  6\n",
      "Enter 2nd number  3\n"
     ]
    },
    {
     "name": "stdout",
     "output_type": "stream",
     "text": [
      "sum of given numbers =  9\n",
      "product of given numbers =  18\n",
      "difference of given numbers =  3\n",
      "division of given numbers =  2\n",
      "reminder of given numbers =  0\n"
     ]
    }
   ],
   "source": [
    "\t# Write a program that asks the user to enter two numbers, obtains the two numbers from the user and prints the sum, product, difference,\n",
    "# quotient and remainder of the two numbers. The sample output is as follows:\n",
    "\n",
    "num1 = int (input(\"Enter 1st number \"))\n",
    "num2 = int (input(\"Enter 2nd number \"))\n",
    "print ( \"sum of given numbers = \" , num1 + num2)\n",
    "print ( \"product of given numbers = \" , num1 * num2)\n",
    "print ( \"difference of given numbers = \" , num1 - num2)\n",
    "print ( \"division of given numbers = \" , num1 // num2)\n",
    "print ( \"reminder of given numbers = \" , num1 % num2)"
   ]
  },
  {
   "cell_type": "code",
   "execution_count": 5,
   "id": "3044e0cd-1d6a-4064-b92f-5f4ffa8c0889",
   "metadata": {},
   "outputs": [
    {
     "name": "stdin",
     "output_type": "stream",
     "text": [
      " Enter the radius of circle :  9\n"
     ]
    },
    {
     "name": "stdout",
     "output_type": "stream",
     "text": [
      "Diameter =  18.0\n",
      "circumference =  56.54862\n",
      " area =  254.46878999999998\n"
     ]
    }
   ],
   "source": [
    "# Write a program that reads in the radius of a circle and prints the circle’s diameter, \n",
    "# circumference and area. Use the constant value 3.14159 for π. Perform each of these calculations inside the print statement().\n",
    "\n",
    "pi = 3.14159\n",
    "radius = float(input(\" Enter the radius of circle : \"))\n",
    "print (\"Diameter = \" ,  radius * 2)\n",
    "print ( \"circumference = \" , 2 * pi * radius)\n",
    "print (\" area = \" , pi * radius**2)\n"
   ]
  },
  {
   "cell_type": "code",
   "execution_count": 9,
   "id": "b9000a0d-9a1f-4a30-8efc-74778d4c61b4",
   "metadata": {},
   "outputs": [
    {
     "name": "stdout",
     "output_type": "stream",
     "text": [
      "HHHHH\n",
      " HHHH\n",
      "  HHH\n",
      "   HH\n",
      "    H\n"
     ]
    }
   ],
   "source": [
    "# Write a program that produces the following output using variables instead of hardcoding:\n",
    "\n",
    "# HHHHHH\n",
    "#  HHHHH\n",
    "#    HHH\n",
    "#     HH   \n",
    "#      H\n",
    "\n",
    "print ('''HHHHH\n",
    " HHHH\n",
    "  HHH\n",
    "   HH\n",
    "    H''')"
   ]
  },
  {
   "cell_type": "code",
   "execution_count": 22,
   "id": "e0f43095-ee43-4291-a5b2-9bbf13e5a5ef",
   "metadata": {},
   "outputs": [
    {
     "name": "stdin",
     "output_type": "stream",
     "text": [
      "Enter an integer :  7\n"
     ]
    },
    {
     "name": "stdout",
     "output_type": "stream",
     "text": [
      "7  is an odd integer. \n"
     ]
    }
   ],
   "source": [
    "\t# Write a program that reads an integer and determines and prints whether it is odd or even.\n",
    "\n",
    "num =  int(input(\"Enter an integer : \"))\n",
    "if (num % 2 == 0):\n",
    "    print ( num, \" is an even integer. \")\n",
    "\n",
    "else:\n",
    "    print (num, \" is an odd integer. \" )\n",
    "\n"
   ]
  },
  {
   "cell_type": "code",
   "execution_count": 28,
   "id": "d74720c4-b528-4227-a85c-e6756f074d29",
   "metadata": {},
   "outputs": [
    {
     "name": "stdin",
     "output_type": "stream",
     "text": [
      "Enter frist integer  34\n",
      "Enter second integer  56\n",
      "Enter third integer  78\n"
     ]
    },
    {
     "name": "stdout",
     "output_type": "stream",
     "text": [
      "The largest number is =  78\n",
      "The smallest number is =  56\n"
     ]
    }
   ],
   "source": [
    "# Write a program that inputs three different integers from the keyboard, and then prints the smallest and the largest of these numbers.\n",
    "# Use only the single-selection form of the if statement that you learned in the class. The screen dialogue should appear as follows:\n",
    "# Input three different integers: 13 27 14\n",
    "# Smallest is 13\n",
    "# Largest is 27\n",
    "\n",
    "first_integer = int(input(\"Enter frist integer \"))\n",
    "second_integer = int(input(\"Enter second integer \"))\n",
    "third_integer = int(input(\"Enter third integer \"))\n",
    "\n",
    "if first_integer > second_integer or first_integer > third_integer:\n",
    "    larger_integer = first_integer\n",
    "\n",
    "if second_integer > first_integer or second_integer > third_integer:\n",
    "    larger_integer = second_integer\n",
    "\n",
    "if third_integer > first_integer or third_integer > second_integer:\n",
    "    larger_integer = third_integer\n",
    "\n",
    "if first_integer < second_integer or first_integer < third_integer:\n",
    "    smaller_integer = first_integer\n",
    "\n",
    "if second_integer < first_integer or second_integer < third_integer:\n",
    "    smaller_integer = second_integer\n",
    "\n",
    "if third_integer < first_integer or third_integer < second_integer:\n",
    "    smaller_integer = third_integer\n",
    "\n",
    "print ( \"The largest number is = \", larger_integer)\n",
    "print ( \"The smallest number is = \", smaller_integer)\n",
    "\n"
   ]
  },
  {
   "cell_type": "code",
   "execution_count": 38,
   "id": "f6868bb6-aef9-49df-8c07-c39b171d8fb4",
   "metadata": {},
   "outputs": [
    {
     "ename": "SyntaxError",
     "evalue": "'literal' is an illegal expression for augmented assignment (1905341693.py, line 14)",
     "output_type": "error",
     "traceback": [
      "\u001b[1;36m  Cell \u001b[1;32mIn[38], line 14\u001b[1;36m\u001b[0m\n\u001b[1;33m    4 += 7 / 2\u001b[0m\n\u001b[1;37m    ^\u001b[0m\n\u001b[1;31mSyntaxError\u001b[0m\u001b[1;31m:\u001b[0m 'literal' is an illegal expression for augmented assignment\n"
     ]
    }
   ],
   "source": [
    "# Which of the following expressions results in syntax errors? \n",
    "# Identify the syntax SyntaxErrors and type the reason for the error and the correct code by mentioning its sequence number.\n",
    "\n",
    "# n.\t6 * -----------8\n",
    "# o.\t8 = people\n",
    "# p.\t((((4 ** 3))))\n",
    "# q.\t(-(-(-(-5))))\n",
    "# r.\t4 += 7 / 2\n",
    "\n",
    "6 * -----------8   # no error\n",
    "8= people          # number are not used in first.\n",
    "# ((((4 ** 3))))   # no error\n",
    "# (-(-(-(-5))))    # no error\n",
    "# 4 += 7 / 2       # no error\n"
   ]
  },
  {
   "cell_type": "code",
   "execution_count": 52,
   "id": "e90f240f-4ec6-4d21-9aea-eb30efcdcf0a",
   "metadata": {},
   "outputs": [
    {
     "name": "stdout",
     "output_type": "stream",
     "text": [
      " Number\tSquare\tCube\n",
      "1 \t 1 \t 1\n",
      "2 \t 4 \t 8\n",
      "3 \t 9 \t 27\n",
      "4 \t 16 \t 64\n",
      "5 \t 25 \t 125\n",
      "6 \t 36 \t 216\n",
      "7 \t 49 \t 343\n",
      "8 \t 64 \t 512\n",
      "9 \t 81 \t 729\n",
      "10 \t 100 \t 1000\n"
     ]
    }
   ],
   "source": [
    "\t# Using only the techniques you have learned so far, \n",
    "# write a program that calculates the square and cube of the numbers from 0 to 10 and uses tabs to print the following table of values:\n",
    "\n",
    "print ( \" Number\\tSquare\\tCube\")\n",
    "for i in range (1,11):\n",
    "    print ( i, \"\\t\", i**2, \"\\t\", i**3)\n"
   ]
  },
  {
   "cell_type": "code",
   "execution_count": 56,
   "id": "cc905f3c-3113-453f-8e1f-d03a6374c20b",
   "metadata": {},
   "outputs": [
    {
     "name": "stdout",
     "output_type": "stream",
     "text": [
      "orignal values are  5 and 10 .\n",
      " swaped values are  10 and 5 .\n"
     ]
    }
   ],
   "source": [
    "\t# Write a program that assigns values to two variables and then swap their values. *\n",
    "\n",
    "num1 = 5\n",
    "num2 = 10\n",
    "print (\"orignal values are \" , num1 , \"and\" , num2 , \".\")\n",
    "num1 , num2 = num2 ,num1\n",
    "print (\" swaped values are \" , num1 , \"and\" , num2 , \".\")"
   ]
  },
  {
   "cell_type": "code",
   "execution_count": 9,
   "id": "dc244a86-3d33-4198-9aa5-7a366d2b15e3",
   "metadata": {},
   "outputs": [
    {
     "name": "stdin",
     "output_type": "stream",
     "text": [
      "five-digit number is 12345\n"
     ]
    },
    {
     "name": "stdout",
     "output_type": "stream",
     "text": [
      "5 4 3 2 1\n"
     ]
    }
   ],
   "source": [
    "\t# Write a program that inputs one five-digit number, generates its reverse and displays the reverse on screen.\n",
    "# (Hint: Make use of the arithmetic operators modulus (%) and floor (// )\n",
    "\n",
    "number = int(input(\"five-digit number is\"))\n",
    "n1= number % 10\n",
    "n2 = (number % 100) // 10\n",
    "n3 = (number % 1000) // 100\n",
    "n4 = (number % 10000) // 1000\n",
    "n5 = (number // 10000)\n",
    "\n",
    "print (n1,n2,n3,n4,n5)"
   ]
  },
  {
   "cell_type": "code",
   "execution_count": 77,
   "id": "bbaae5ce-3472-475f-af06-b1156d50a16e",
   "metadata": {},
   "outputs": [
    {
     "name": "stdout",
     "output_type": "stream",
     "text": [
      "*********          ***               *             *\n",
      "*       *        *    *             ***          *  *\n",
      "*       *       *      *           *****        *    *\n",
      "*       *       *      *             *         *      *\n",
      "*       *       *      *             *        *        *\n",
      "*       *       *      *             *         *      *\n",
      "*       *       *      *                        *    *\n",
      "*       *        *    *              *           *  *\n",
      "*********          ***               *             *\n",
      "\n"
     ]
    }
   ],
   "source": [
    "# ●\tUsing whatever we have learned so far, write a program that prints a box, an oval, an arrow and a diamond as follows:\n",
    "\n",
    "print ('''*********          ***               *             *\n",
    "*       *        *    *             ***          *  *\n",
    "*       *       *      *           *****        *    *\n",
    "*       *       *      *             *         *      *\n",
    "*       *       *      *             *        *        *\n",
    "*       *       *      *             *         *      *\n",
    "*       *       *      *                        *    *\n",
    "*       *        *    *              *           *  *\n",
    "*********          ***               *             *\n",
    "''')     "
   ]
  },
  {
   "cell_type": "code",
   "execution_count": 97,
   "id": "a0e20f61-6d65-41e4-96ee-e50c9dff114d",
   "metadata": {},
   "outputs": [
    {
     "name": "stdin",
     "output_type": "stream",
     "text": [
      "Enter 1st integer :  3\n",
      "Enter 2nd integer :  4\n",
      "Enter 3rd integer :  5\n"
     ]
    },
    {
     "name": "stdout",
     "output_type": "stream",
     "text": [
      "side of  right triangle 5\n"
     ]
    }
   ],
   "source": [
    "\t# Write a program that reads three nonzero integers and determines and prints if they could be the sides of a right triangle. \n",
    "# (Hint: use Pythagoras theorem you learned in mathematics during FSC or matric, try different combinations of the same integers )\n",
    "\n",
    "# Enter three integers: 3 4 5\n",
    "# The three integers are the sides of a right triangle\n",
    "\n",
    "# Enter three integers: 9 4 1\n",
    "# The three integers are not the sides of a right triangle\n",
    "\n",
    "side1 = int(input(\"Enter 1st integer : \"))\n",
    "side2 = int(input(\"Enter 2nd integer : \"))\n",
    "side3 = int(input(\"Enter 3rd integer : \"))\n",
    "\n",
    "if (side3)**2 == (side1)**2 + (side2)**2: \n",
    "    print (\"side of  right triangle\", side3)\n",
    "\n",
    "else:\n",
    "    print (\"error\")\n",
    "\n"
   ]
  },
  {
   "cell_type": "code",
   "execution_count": 5,
   "id": "67e80b94-9590-413c-95a3-0d964da125ab",
   "metadata": {},
   "outputs": [
    {
     "name": "stdin",
     "output_type": "stream",
     "text": [
      " Enter score here  0.22\n"
     ]
    },
    {
     "name": "stdout",
     "output_type": "stream",
     "text": [
      "your score is  0.22 and your grade is F\n"
     ]
    }
   ],
   "source": [
    "'''Write a program to prompt for a score between 0.0 and 1.0. If the score is out of range, print an error message.\n",
    "If the score is between 0.0 and 1.0, print a grade using the following table: '''\n",
    "\n",
    "score = float(input(\" Enter score here \"))\n",
    "\n",
    "if score >= 0.9:\n",
    "    print (\"your score is \", score, \"and your grade is A\")\n",
    "\n",
    "if score >= 0.8:\n",
    "    print (\"your score is \", score, \"and your grade is B\")\n",
    "\n",
    "elif score >= 0.7:\n",
    "    print (\"your score is \", score, \"and your grade is C\")\n",
    "\n",
    "elif score >= 0.6:\n",
    "    print (\"your score is \", score, \"and your grade is D\")\n",
    "\n",
    "else:\n",
    "    print (\"your score is \", score, \"and your grade is F\")\n",
    "    "
   ]
  },
  {
   "cell_type": "code",
   "execution_count": 15,
   "id": "e3ad4771-cf4c-4ba5-9ff8-ca356772067b",
   "metadata": {},
   "outputs": [
    {
     "name": "stdin",
     "output_type": "stream",
     "text": [
      "Enter an hour between 1 and 12:  5\n",
      " Enter AM/PM:  am\n",
      " Enter number of hour u need in future :  8\n"
     ]
    },
    {
     "name": "stdout",
     "output_type": "stream",
     "text": [
      "13\n",
      "1 pm\n"
     ]
    }
   ],
   "source": [
    "''' Write a program that asks the user for an hour between 1 and 12, asks them to enter am or pm, \n",
    "and asks them how many hours into the future they want to go.\n",
    "Print out what the hour will be that many hours into the future, printing am or pm as appropriate. An example is shown below. '''\n",
    "\n",
    "hour = int(input(\"Enter an hour between 1 and 12: \"))\n",
    "am_pm = input(\" Enter AM/PM: \")\n",
    "addition_hour = int(input(\" Enter number of hour u need in future : \"))\n",
    "\n",
    "future_hour = hour + addition_hour\n",
    "print (future_hour)\n",
    "\n",
    "if hour == 12:\n",
    "    print (future_hour , am_pm)\n",
    "\n",
    "elif hour > 12:\n",
    "    print (future_hour - 12 , \"pm\"  if am_pm == \"am\"  else \"am\")\n",
    "\n",
    "elif hour < 12:\n",
    "    print (future_hour - 12 , \"pm\"  if am_pm == \"pm\"  else \"pm\")\n",
    "\n",
    "else:\n",
    "    print (\"invalid input is given\")"
   ]
  },
  {
   "cell_type": "code",
   "execution_count": 3,
   "id": "3dfa03d7-1576-41e4-adac-b585ca8c787b",
   "metadata": {},
   "outputs": [
    {
     "name": "stdin",
     "output_type": "stream",
     "text": [
      "Enter a five-digit integer:  12321\n"
     ]
    },
    {
     "name": "stdout",
     "output_type": "stream",
     "text": [
      "12321 is a palindrome.\n"
     ]
    }
   ],
   "source": [
    "''' A palindrome is a number or a text phrase that reads the same backwards as forwards. \n",
    "For example, each of the following five-digit integers are palindromes: 12321, 55555, 45554 and 11611.\n",
    "Write a program that reads in a five-digit integer and determines whether or not it is a palindrome.  '''\n",
    "\n",
    "def is_palindrome(number):\n",
    "    num_str = str(number)    # Convert the number to a string\n",
    "    return num_str == num_str[::-1]     # Check if the string is equal to its reverse\n",
    "\n",
    "def main():\n",
    "    while True:      # Read a five-digit integer from the user\n",
    "        try:\n",
    "            num = int(input(\"Enter a five-digit integer: \"))\n",
    "            if 10000 <= num <= 99999:\n",
    "                break\n",
    "            else:\n",
    "                print(\"The number must be a five-digit integer. Please try again.\")\n",
    "        except ValueError:\n",
    "            print(\"Invalid input. Please enter a valid integer.\")\n",
    "            \n",
    "    if is_palindrome(num):         # Determine if the number is a palindrome\n",
    "        print(f\"{num} is a palindrome.\")\n",
    "    else:\n",
    "        print(f\"{num} is not a palindrome.\")\n",
    "\n",
    "if __name__ == \"__main__\":\n",
    "    main()\n"
   ]
  },
  {
   "cell_type": "code",
   "execution_count": null,
   "id": "6ed90c65-8524-4c49-8356-09f065aa6fb8",
   "metadata": {},
   "outputs": [],
   "source": [
    "            #    <============== LAB_2 COMPLETE ==========>"
   ]
  }
 ],
 "metadata": {
  "kernelspec": {
   "display_name": "Python 3 (ipykernel)",
   "language": "python",
   "name": "python3"
  },
  "language_info": {
   "codemirror_mode": {
    "name": "ipython",
    "version": 3
   },
   "file_extension": ".py",
   "mimetype": "text/x-python",
   "name": "python",
   "nbconvert_exporter": "python",
   "pygments_lexer": "ipython3",
   "version": "3.11.7"
  }
 },
 "nbformat": 4,
 "nbformat_minor": 5
}
